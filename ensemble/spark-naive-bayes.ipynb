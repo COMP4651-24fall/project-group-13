{
 "cells": [
  {
   "cell_type": "markdown",
   "metadata": {},
   "source": [
    "# 4, Modify to adopt Spark"
   ]
  },
  {
   "cell_type": "markdown",
   "metadata": {},
   "source": [
    "## Simple setup by the help of official documentation"
   ]
  },
  {
   "cell_type": "markdown",
   "metadata": {},
   "source": [
    "### 0. Extra Config as my pc has multiple JVMs "
   ]
  },
  {
   "cell_type": "code",
   "execution_count": 1,
   "metadata": {},
   "outputs": [
    {
     "name": "stdout",
     "output_type": "stream",
     "text": [
      "Matching Java Virtual Machines (8):\n",
      "    23 (arm64) \"Eclipse Adoptium\" - \"OpenJDK 23\" /Library/Java/JavaVirtualMachines/temurin-23.jdk/Contents/Home\n",
      "    19.0.2 (arm64) \"Amazon.com Inc.\" - \"Amazon Corretto 19\" /Users/him/Library/Java/JavaVirtualMachines/corretto-19.0.2/Contents/Home\n",
      "    17.0.8 (arm64) \"Oracle Corporation\" - \"Java SE 17.0.8\" /Library/Java/JavaVirtualMachines/jdk-17.jdk/Contents/Home\n",
      "    11.0.23 (arm64) \"Amazon.com Inc.\" - \"Amazon Corretto 11\" /Users/him/Library/Java/JavaVirtualMachines/corretto-11.0.23/Contents/Home\n",
      "    11.0.22 (arm64) \"Eclipse Adoptium\" - \"OpenJDK 11.0.22\" /Library/Java/JavaVirtualMachines/temurin-11.jdk/Contents/Home\n",
      "    1.8.431.10 (x86_64) \"Oracle Corporation\" - \"Java\" /Library/Internet Plug-Ins/JavaAppletPlugin.plugin/Contents/Home\n",
      "    1.8.0_412 (arm64) \"Amazon\" - \"Amazon Corretto 8\" /Users/him/Library/Java/JavaVirtualMachines/corretto-1.8.0_412/Contents/Home\n",
      "    1.8.0_412 (x86_64) \"Amazon\" - \"Amazon Corretto 8\" /Users/him/Library/Java/JavaVirtualMachines/corretto-1.8.0_412-1/Contents/Home\n",
      "/Library/Java/JavaVirtualMachines/temurin-23.jdk/Contents/Home\n"
     ]
    }
   ],
   "source": [
    "!/usr/libexec/java_home -V"
   ]
  },
  {
   "cell_type": "code",
   "execution_count": 2,
   "metadata": {},
   "outputs": [],
   "source": [
    "import os"
   ]
  },
  {
   "cell_type": "code",
   "execution_count": 3,
   "metadata": {},
   "outputs": [
    {
     "name": "stdout",
     "output_type": "stream",
     "text": [
      "Existing Java Home:  None\n",
      "Updated Java Home:  /Library/Java/JavaVirtualMachines/jdk-17.jdk/Contents/Home\n"
     ]
    }
   ],
   "source": [
    "java_path = \"/Library/Java/JavaVirtualMachines/jdk-17.jdk/Contents/Home\"\n",
    "java_home = os.environ.get('JAVA_HOME', None)\n",
    "\n",
    "print(\"Existing Java Home: \",java_home)\n",
    "\n",
    "if (not java_home) or (java_path not in java_home):\n",
    "    os.environ['JAVA_HOME'] = java_path\n",
    "\n",
    "print(\"Updated Java Home: \",os.environ.get('JAVA_HOME', None))"
   ]
  },
  {
   "cell_type": "code",
   "execution_count": 4,
   "metadata": {},
   "outputs": [
    {
     "name": "stderr",
     "output_type": "stream",
     "text": [
      "java version \"17.0.8\" 2023-07-18 LTS\n",
      "Java(TM) SE Runtime Environment (build 17.0.8+9-LTS-211)\n",
      "Java HotSpot(TM) 64-Bit Server VM (build 17.0.8+9-LTS-211, mixed mode, sharing)\n"
     ]
    },
    {
     "data": {
      "text/plain": [
       "0"
      ]
     },
     "execution_count": 4,
     "metadata": {},
     "output_type": "execute_result"
    }
   ],
   "source": [
    "# print java version\n",
    "\n",
    "os.system('java -version')"
   ]
  },
  {
   "cell_type": "markdown",
   "metadata": {},
   "source": [
    "### 1. Import library"
   ]
  },
  {
   "cell_type": "code",
   "execution_count": 5,
   "metadata": {},
   "outputs": [],
   "source": [
    "# $example on$\n",
    "import pandas as pd\n",
    "import matplotlib.pyplot as plt\n",
    "from sklearn.metrics import confusion_matrix, classification_report, ConfusionMatrixDisplay\n",
    "from pyspark.ml.classification import NaiveBayes\n",
    "from pyspark.ml.evaluation import MulticlassClassificationEvaluator\n",
    "from pyspark.ml.feature import VectorAssembler\n",
    "# $example off$\n",
    "from pyspark.sql import SparkSession"
   ]
  },
  {
   "cell_type": "markdown",
   "metadata": {},
   "source": [
    "### 2. Load data"
   ]
  },
  {
   "cell_type": "code",
   "execution_count": 6,
   "metadata": {},
   "outputs": [],
   "source": [
    "train_df = pd.read_csv('data/train.csv')\n",
    "test_df = pd.read_csv('data/test.csv')"
   ]
  },
  {
   "cell_type": "markdown",
   "metadata": {},
   "source": [
    "### 3. Prepocessing"
   ]
  },
  {
   "cell_type": "code",
   "execution_count": 7,
   "metadata": {},
   "outputs": [],
   "source": [
    "train_df.drop(['PassengerId', 'Name', 'Ticket', 'Cabin'], axis=1, inplace=True)\n",
    "train_df['Sex'] = train_df['Sex'].apply(lambda x: 1 if x == 'male' else 0)\n",
    "train_df['Age'] = train_df['Age'].fillna(train_df['Age'].mean())\n",
    "train_df['Embarked'] = train_df['Embarked'].apply(lambda x: 0 if x == 'S' else 1)"
   ]
  },
  {
   "cell_type": "code",
   "execution_count": 8,
   "metadata": {},
   "outputs": [
    {
     "name": "stderr",
     "output_type": "stream",
     "text": [
      "24/11/28 15:51:19 WARN Utils: Your hostname, Yuen-Man-Hims-MacBook-Pro-2.local resolves to a loopback address: 127.0.0.1; using 10.89.166.58 instead (on interface en0)\n",
      "24/11/28 15:51:19 WARN Utils: Set SPARK_LOCAL_IP if you need to bind to another address\n",
      "Setting default log level to \"WARN\".\n",
      "To adjust logging level use sc.setLogLevel(newLevel). For SparkR, use setLogLevel(newLevel).\n",
      "24/11/28 15:51:20 WARN NativeCodeLoader: Unable to load native-hadoop library for your platform... using builtin-java classes where applicable\n"
     ]
    }
   ],
   "source": [
    "spark = SparkSession\\\n",
    "        .builder\\\n",
    "        .appName(\"NaiveBayes\")\\\n",
    "        .getOrCreate()\n"
   ]
  },
  {
   "cell_type": "code",
   "execution_count": null,
   "metadata": {},
   "outputs": [],
   "source": [
    "data = spark.createDataFrame(train_df)\n",
    "train, valid = data.randomSplit([0.6, 0.4], seed=12345)\n",
    "\n",
    "assembler = VectorAssembler(\n",
    "    inputCols = train_df.columns[1:].to_list(),\n",
    "    outputCol = \"features\")\n",
    "train = assembler.transform(train)\n",
    "valid = assembler.transform(valid)"
   ]
  },
  {
   "cell_type": "markdown",
   "metadata": {},
   "source": [
    "## 4. Model"
   ]
  },
  {
   "cell_type": "code",
   "execution_count": null,
   "metadata": {},
   "outputs": [
    {
     "name": "stderr",
     "output_type": "stream",
     "text": [
      "24/11/28 15:51:28 WARN InstanceBuilder: Failed to load implementation from:dev.ludovic.netlib.blas.JNIBLAS\n",
      "24/11/28 15:51:28 WARN InstanceBuilder: Failed to load implementation from:dev.ludovic.netlib.blas.VectorBLAS\n"
     ]
    },
    {
     "name": "stdout",
     "output_type": "stream",
     "text": [
      "Multionmial: Test set accuracy = 0.6857142857142857\n",
      "              precision    recall  f1-score   support\n",
      "\n",
      "           0       0.71      0.83      0.77       216\n",
      "           1       0.62      0.45      0.52       134\n",
      "\n",
      "    accuracy                           0.69       350\n",
      "   macro avg       0.67      0.64      0.64       350\n",
      "weighted avg       0.68      0.69      0.67       350\n",
      "\n"
     ]
    },
    {
     "data": {
      "image/png": "[encoded data removed]",
      "text/plain": [
       "<Figure size 640x480 with 2 Axes>"
      ]
     },
     "metadata": {},
     "output_type": "display_data"
    }
   ],
   "source": [
    "# create the trainer and set its parameters\n",
    "nb = NaiveBayes(\n",
    "    smoothing=1.0, \n",
    "    modelType=\"multinomial\", \n",
    "    labelCol=\"Survived\"\n",
    "    )\n",
    "\n",
    "# train the model\n",
    "model = nb.fit(train)\n",
    "\n",
    "# select example rows to display.\n",
    "predictions = model.transform(valid)\n",
    "# predictions.show()\n",
    "\n",
    "# compute accuracy on the test set\n",
    "evaluator = MulticlassClassificationEvaluator(labelCol=\"Survived\", \n",
    "                                              predictionCol=\"prediction\", \n",
    "                                              metricName=\"accuracy\"\n",
    "                                              )\n",
    "accuracy = evaluator.evaluate(predictions)\n",
    "print(\"Multionmial: Test set accuracy = \" + str(accuracy))\n",
    "\n",
    "# Get predictions\n",
    "y_true = predictions.select(\"Survived\").toPandas()\n",
    "y_pred = predictions.select(\"prediction\").toPandas()\n",
    "\n",
    "# Create classification report\n",
    "print(classification_report(y_true, y_pred))\n",
    "\n",
    "# Create confusion matrix\n",
    "cm = confusion_matrix(y_true, y_pred)\n",
    "\n",
    "# Plot confusion matrix\n",
    "disp = ConfusionMatrixDisplay(confusion_matrix=cm, display_labels=[0, 1])\n",
    "disp.plot(cmap=plt.cm.Blues)\n",
    "plt.title(\"Confusion Matrix\")\n",
    "plt.show()"
   ]
  },
  {
   "cell_type": "code",
   "execution_count": 10,
   "metadata": {},
   "outputs": [
    {
     "name": "stdout",
     "output_type": "stream",
     "text": [
      "Complement: Test set accuracy = 0.6914285714285714\n",
      "              precision    recall  f1-score   support\n",
      "\n",
      "           0       0.71      0.83      0.77       216\n",
      "           1       0.63      0.46      0.53       134\n",
      "\n",
      "    accuracy                           0.69       350\n",
      "   macro avg       0.67      0.65      0.65       350\n",
      "weighted avg       0.68      0.69      0.68       350\n",
      "\n"
     ]
    },
    {
     "data": {
      "image/png": "[encoded data removed]",
      "text/plain": [
       "<Figure size 640x480 with 2 Axes>"
      ]
     },
     "metadata": {},
     "output_type": "display_data"
    }
   ],
   "source": [
    "# create the trainer and set its parameters\n",
    "nb = NaiveBayes(\n",
    "    smoothing=1.0, \n",
    "    modelType=\"complement\", \n",
    "    labelCol=\"Survived\"\n",
    "    )\n",
    "\n",
    "# train the model\n",
    "model = nb.fit(train)\n",
    "\n",
    "# select example rows to display.\n",
    "predictions = model.transform(valid)\n",
    "# predictions.show()\n",
    "\n",
    "# compute accuracy on the test set\n",
    "evaluator = MulticlassClassificationEvaluator(labelCol=\"Survived\", \n",
    "                                              predictionCol=\"prediction\", \n",
    "                                              metricName=\"accuracy\"\n",
    "                                              )\n",
    "accuracy = evaluator.evaluate(predictions, )\n",
    "print(\"Complement: Test set accuracy = \" + str(accuracy))\n",
    "\n",
    "# Get predictions\n",
    "y_true = predictions.select(\"Survived\").toPandas()\n",
    "y_pred = predictions.select(\"prediction\").toPandas()\n",
    "\n",
    "# Create classification report\n",
    "print(classification_report(y_true, y_pred))\n",
    "\n",
    "# Create confusion matrix\n",
    "cm = confusion_matrix(y_true, y_pred)\n",
    "\n",
    "# Plot confusion matrix\n",
    "disp = ConfusionMatrixDisplay(confusion_matrix=cm, display_labels=[0, 1])\n",
    "disp.plot(cmap=plt.cm.Blues)\n",
    "plt.title(\"Confusion Matrix\")\n",
    "plt.show()"
   ]
  },
  {
   "cell_type": "code",
   "execution_count": 11,
   "metadata": {},
   "outputs": [],
   "source": [
    "spark.stop()"
   ]
  }
 ],
 "metadata": {
  "kernelspec": {
   "display_name": "COMP4332_Project",
   "language": "python",
   "name": "python3"
  },
  "language_info": {
   "codemirror_mode": {
    "name": "ipython",
    "version": 3
   },
   "file_extension": ".py",
   "mimetype": "text/x-python",
   "name": "python",
   "nbconvert_exporter": "python",
   "pygments_lexer": "ipython3",
   "version": "3.11.8"
  }
 },
 "nbformat": 4,
 "nbformat_minor": 2
}

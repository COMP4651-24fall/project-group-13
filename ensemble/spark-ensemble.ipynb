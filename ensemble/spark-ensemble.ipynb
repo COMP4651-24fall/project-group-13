{
 "cells": [
  {
   "cell_type": "markdown",
   "metadata": {},
   "source": [
    "# 0. Extra Config as my pc has multiple JVMs "
   ]
  },
  {
   "cell_type": "code",
   "execution_count": 1,
   "metadata": {},
   "outputs": [
    {
     "name": "stdout",
     "output_type": "stream",
     "text": [
      "Matching Java Virtual Machines (8):\n",
      "    23 (arm64) \"Eclipse Adoptium\" - \"OpenJDK 23\" /Library/Java/JavaVirtualMachines/temurin-23.jdk/Contents/Home\n",
      "    19.0.2 (arm64) \"Amazon.com Inc.\" - \"Amazon Corretto 19\" /Users/him/Library/Java/JavaVirtualMachines/corretto-19.0.2/Contents/Home\n",
      "    17.0.8 (arm64) \"Oracle Corporation\" - \"Java SE 17.0.8\" /Library/Java/JavaVirtualMachines/jdk-17.jdk/Contents/Home\n",
      "    11.0.23 (arm64) \"Amazon.com Inc.\" - \"Amazon Corretto 11\" /Users/him/Library/Java/JavaVirtualMachines/corretto-11.0.23/Contents/Home\n",
      "    11.0.22 (arm64) \"Eclipse Adoptium\" - \"OpenJDK 11.0.22\" /Library/Java/JavaVirtualMachines/temurin-11.jdk/Contents/Home\n",
      "    1.8.431.10 (x86_64) \"Oracle Corporation\" - \"Java\" /Library/Internet Plug-Ins/JavaAppletPlugin.plugin/Contents/Home\n",
      "    1.8.0_412 (arm64) \"Amazon\" - \"Amazon Corretto 8\" /Users/him/Library/Java/JavaVirtualMachines/corretto-1.8.0_412/Contents/Home\n",
      "    1.8.0_412 (x86_64) \"Amazon\" - \"Amazon Corretto 8\" /Users/him/Library/Java/JavaVirtualMachines/corretto-1.8.0_412-1/Contents/Home\n",
      "/Library/Java/JavaVirtualMachines/temurin-23.jdk/Contents/Home\n"
     ]
    }
   ],
   "source": [
    "!/usr/libexec/java_home -V"
   ]
  },
  {
   "cell_type": "code",
   "execution_count": 2,
   "metadata": {},
   "outputs": [],
   "source": [
    "import os"
   ]
  },
  {
   "cell_type": "code",
   "execution_count": 3,
   "metadata": {},
   "outputs": [
    {
     "name": "stdout",
     "output_type": "stream",
     "text": [
      "Existing Java Home:  None\n",
      "Updated Java Home:  /Library/Java/JavaVirtualMachines/jdk-17.jdk/Contents/Home\n"
     ]
    }
   ],
   "source": [
    "java_path = \"/Library/Java/JavaVirtualMachines/jdk-17.jdk/Contents/Home\"\n",
    "java_home = os.environ.get('JAVA_HOME', None)\n",
    "\n",
    "print(\"Existing Java Home: \",java_home)\n",
    "\n",
    "if (not java_home) or (java_path not in java_home):\n",
    "    os.environ['JAVA_HOME'] = java_path\n",
    "\n",
    "print(\"Updated Java Home: \",os.environ.get('JAVA_HOME', None))"
   ]
  },
  {
   "cell_type": "code",
   "execution_count": 4,
   "metadata": {},
   "outputs": [
    {
     "name": "stderr",
     "output_type": "stream",
     "text": [
      "java version \"17.0.8\" 2023-07-18 LTS\n",
      "Java(TM) SE Runtime Environment (build 17.0.8+9-LTS-211)\n",
      "Java HotSpot(TM) 64-Bit Server VM (build 17.0.8+9-LTS-211, mixed mode, sharing)\n"
     ]
    },
    {
     "data": {
      "text/plain": [
       "0"
      ]
     },
     "execution_count": 4,
     "metadata": {},
     "output_type": "execute_result"
    }
   ],
   "source": [
    "# print java version\n",
    "\n",
    "os.system('java -version')"
   ]
  },
  {
   "cell_type": "markdown",
   "metadata": {},
   "source": [
    "# 1. Load data"
   ]
  },
  {
   "cell_type": "code",
   "execution_count": 5,
   "metadata": {},
   "outputs": [],
   "source": [
    "import pandas as pd"
   ]
  },
  {
   "cell_type": "code",
   "execution_count": 6,
   "metadata": {},
   "outputs": [],
   "source": [
    "train_df = pd.read_csv('../data/train.csv')"
   ]
  },
  {
   "cell_type": "markdown",
   "metadata": {},
   "source": [
    "# 2. Prepocessing"
   ]
  },
  {
   "cell_type": "code",
   "execution_count": 7,
   "metadata": {},
   "outputs": [],
   "source": [
    "from pyspark.ml.feature import VectorAssembler\n",
    "from pyspark.sql import SparkSession"
   ]
  },
  {
   "cell_type": "code",
   "execution_count": 8,
   "metadata": {},
   "outputs": [],
   "source": [
    "train_df.drop(['PassengerId', 'Name', 'Ticket', 'Cabin'], axis=1, inplace=True)\n",
    "train_df['Sex'] = train_df['Sex'].apply(lambda x: 1 if x == 'male' else 0)\n",
    "train_df['Age'] = train_df['Age'].fillna(train_df['Age'].mean())\n",
    "train_df['Embarked'] = train_df['Embarked'].apply(lambda x: 0 if x == 'S' else 1)"
   ]
  },
  {
   "cell_type": "code",
   "execution_count": 9,
   "metadata": {},
   "outputs": [
    {
     "name": "stderr",
     "output_type": "stream",
     "text": [
      "24/11/30 00:07:07 WARN Utils: Your hostname, Yuen-Man-Hims-MacBook-Pro-2.local resolves to a loopback address: 127.0.0.1; using 192.168.0.31 instead (on interface en0)\n",
      "24/11/30 00:07:07 WARN Utils: Set SPARK_LOCAL_IP if you need to bind to another address\n",
      "Setting default log level to \"WARN\".\n",
      "To adjust logging level use sc.setLogLevel(newLevel). For SparkR, use setLogLevel(newLevel).\n",
      "24/11/30 00:07:07 WARN NativeCodeLoader: Unable to load native-hadoop library for your platform... using builtin-java classes where applicable\n"
     ]
    }
   ],
   "source": [
    "spark = SparkSession\\\n",
    "        .builder\\\n",
    "        .appName(\"ensemble\")\\\n",
    "        .getOrCreate()\n"
   ]
  },
  {
   "cell_type": "code",
   "execution_count": 10,
   "metadata": {},
   "outputs": [
    {
     "name": "stderr",
     "output_type": "stream",
     "text": [
      "                                                                                \r"
     ]
    }
   ],
   "source": [
    "data = spark.createDataFrame(train_df)\n",
    "train, valid = data.randomSplit([0.5, 0.5], seed=12345)\n",
    "\n",
    "assembler = VectorAssembler(\n",
    "    inputCols = train_df.columns[1:].to_list(),\n",
    "    outputCol = \"features\")\n",
    "train = assembler.transform(train)\n",
    "valid = assembler.transform(valid)\n",
    "y_true = valid.select('Survived').toPandas()"
   ]
  },
  {
   "cell_type": "markdown",
   "metadata": {},
   "source": [
    "# 3. Model"
   ]
  },
  {
   "cell_type": "code",
   "execution_count": 11,
   "metadata": {},
   "outputs": [],
   "source": [
    "from sklearn.metrics import f1_score"
   ]
  },
  {
   "cell_type": "markdown",
   "metadata": {},
   "source": [
    "## 3.1 Naive-bayes"
   ]
  },
  {
   "cell_type": "code",
   "execution_count": 12,
   "metadata": {},
   "outputs": [],
   "source": [
    "from pyspark.ml.classification import NaiveBayes"
   ]
  },
  {
   "cell_type": "code",
   "execution_count": 13,
   "metadata": {},
   "outputs": [
    {
     "name": "stderr",
     "output_type": "stream",
     "text": [
      "24/11/30 00:07:14 WARN InstanceBuilder: Failed to load implementation from:dev.ludovic.netlib.blas.JNIBLAS\n",
      "24/11/30 00:07:14 WARN InstanceBuilder: Failed to load implementation from:dev.ludovic.netlib.blas.VectorBLAS\n"
     ]
    }
   ],
   "source": [
    "# create the trainer and set its parameters\n",
    "nb = NaiveBayes(\n",
    "    smoothing=1.0, \n",
    "    modelType=\"complement\", \n",
    "    labelCol=\"Survived\"\n",
    "    )\n",
    "\n",
    "# train the model\n",
    "nbModel = nb.fit(train)\n",
    "\n",
    "# select example rows to display.\n",
    "nbResult = nbModel.transform(valid)"
   ]
  },
  {
   "cell_type": "code",
   "execution_count": 14,
   "metadata": {},
   "outputs": [
    {
     "name": "stdout",
     "output_type": "stream",
     "text": [
      "+--------+------+---+-----------------+-----+-----+-------+--------+--------------------+--------------------+--------------------+----------+\n",
      "|Survived|Pclass|Sex|              Age|SibSp|Parch|   Fare|Embarked|            features|       rawPrediction|         probability|prediction|\n",
      "+--------+------+---+-----------------+-----+-----+-------+--------+--------------------+--------------------+--------------------+----------+\n",
      "|       0|     1|  1|29.69911764705882|    0|    0|27.7208|       1|[1.0,1.0,29.69911...|[-0.1635464161570...|[0.84912708487071...|       0.0|\n",
      "|       0|     1|  1|             40.0|    0|    0|27.7208|       1|[1.0,1.0,40.0,0.0...|[-0.0030416195769...|[0.99696300146153...|       0.0|\n",
      "|       0|     1|  1|             42.0|    1|    0|   52.0|       0|[1.0,1.0,42.0,1.0...|[-3.1727005753096...|[0.04189031705461...|       1.0|\n",
      "|       0|     2|  0|             27.0|    1|    0|   21.0|       0|[2.0,0.0,27.0,1.0...|[-0.0297801511297...|[0.97065890835693...|       0.0|\n",
      "|       0|     2|  1|             32.0|    0|    0|   10.5|       0|[2.0,1.0,32.0,0.0...|[-2.2747370309161...|[0.99997725288840...|       0.0|\n",
      "|       0|     2|  1|             34.0|    1|    0|   26.0|       0|[2.0,1.0,34.0,1.0...|[-0.0041260716092...|[0.99588242892889...|       0.0|\n",
      "|       0|     2|  1|             35.0|    0|    0|   26.0|       0|[2.0,1.0,35.0,0.0...|[-0.0054364761261...|[0.99457827476714...|       0.0|\n",
      "|       0|     2|  1|             66.0|    0|    0|   10.5|       0|[2.0,1.0,66.0,0.0...|[-3.3750779948604...|[0.99999999996624...|       0.0|\n",
      "|       0|     3|  0|             16.0|    5|    2|   46.9|       0|[3.0,0.0,16.0,5.0...|[-8.6446432303639...|[1.76067479463647...|       1.0|\n",
      "|       0|     3|  0|             28.0|    0|    0| 7.8958|       0|(7,[0,2,5],[3.0,2...|[-7.8307125797039...|[0.99992169594012...|       0.0|\n",
      "|       0|     3|  0|             31.0|    1|    0|   18.0|       0|[3.0,0.0,31.0,1.0...|[-9.4250842898446...|[0.99905793559257...|       0.0|\n",
      "|       0|     3|  1|              4.0|    3|    2|   27.9|       0|[3.0,1.0,4.0,3.0,...|[-5.1855394369025...|[0.00559691661746...|       1.0|\n",
      "|       0|     3|  1|             19.0|    0|    0| 8.1583|       0|[3.0,1.0,19.0,0.0...|[-7.7277192318092...|[0.99922752658814...|       0.0|\n",
      "|       0|     3|  1|             20.0|    0|    0| 7.8542|       0|[3.0,1.0,20.0,0.0...|[-4.5699887982664...|[0.99954310552825...|       0.0|\n",
      "|       0|     3|  1|             21.0|    0|    0|    7.8|       0|[3.0,1.0,21.0,0.0...|[-3.0088504114189...|[0.99969916022021...|       0.0|\n",
      "|       0|     3|  1|             22.0|    0|    0|    9.0|       0|[3.0,1.0,22.0,0.0...|[-3.3962754592664...|[0.99966043012097...|       0.0|\n",
      "|       0|     3|  1|             22.0|    1|    0|   7.25|       0|[3.0,1.0,22.0,1.0...|[-8.1816153411296...|[0.99991818719343...|       0.0|\n",
      "|       0|     3|  1|             26.0|    1|    2| 20.575|       0|[3.0,1.0,26.0,1.0...|[-0.0049261865114...|[0.99508592724561...|       0.0|\n",
      "|       0|     3|  1|             26.0|    2|    0| 8.6625|       0|[3.0,1.0,26.0,2.0...|[-1.5825417087000...|[0.99998417470813...|       0.0|\n",
      "|       0|     3|  1|             28.5|    0|    0| 7.2292|       1|[3.0,1.0,28.5,0.0...|[-1.2859162659140...|[0.99998714092001...|       0.0|\n",
      "+--------+------+---+-----------------+-----+-----+-------+--------+--------------------+--------------------+--------------------+----------+\n",
      "only showing top 20 rows\n",
      "\n"
     ]
    }
   ],
   "source": [
    "nbResult.show()"
   ]
  },
  {
   "cell_type": "code",
   "execution_count": 15,
   "metadata": {},
   "outputs": [],
   "source": [
    "nb_y_pred = nbResult.select('prediction').toPandas().values\n",
    "nb_f1 = f1_score(y_true, nb_y_pred)"
   ]
  },
  {
   "cell_type": "markdown",
   "metadata": {},
   "source": [
    "## 3.2 Linear Support Vector Machine (LinearSVM)"
   ]
  },
  {
   "cell_type": "code",
   "execution_count": 16,
   "metadata": {},
   "outputs": [],
   "source": [
    "from pyspark.ml.classification import LinearSVC"
   ]
  },
  {
   "cell_type": "code",
   "execution_count": 17,
   "metadata": {},
   "outputs": [],
   "source": [
    "lsvc = LinearSVC(maxIter=10, regParam=0.1, labelCol=\"Survived\", featuresCol=\"features\")\n",
    "\n",
    "# Fit the model\n",
    "lsvcModel = lsvc.fit(train)\n",
    "\n",
    "lsvcResult = lsvcModel.transform(valid)"
   ]
  },
  {
   "cell_type": "code",
   "execution_count": 18,
   "metadata": {},
   "outputs": [
    {
     "name": "stdout",
     "output_type": "stream",
     "text": [
      "+--------+------+---+-----------------+-----+-----+-------+--------+--------------------+--------------------+----------+\n",
      "|Survived|Pclass|Sex|              Age|SibSp|Parch|   Fare|Embarked|            features|       rawPrediction|prediction|\n",
      "+--------+------+---+-----------------+-----+-----+-------+--------+--------------------+--------------------+----------+\n",
      "|       0|     1|  1|29.69911764705882|    0|    0|27.7208|       1|[1.0,1.0,29.69911...|[0.72062011382097...|       0.0|\n",
      "|       0|     1|  1|             40.0|    0|    0|27.7208|       1|[1.0,1.0,40.0,0.0...|[0.77474999872314...|       0.0|\n",
      "|       0|     1|  1|             42.0|    1|    0|   52.0|       0|[1.0,1.0,42.0,1.0...|[0.99269764918982...|       0.0|\n",
      "|       0|     2|  0|             27.0|    1|    0|   21.0|       0|[2.0,0.0,27.0,1.0...|[-0.9167048385109...|       1.0|\n",
      "|       0|     2|  1|             32.0|    0|    0|   10.5|       0|[2.0,1.0,32.0,0.0...|[0.93969021801855...|       0.0|\n",
      "|       0|     2|  1|             34.0|    1|    0|   26.0|       0|[2.0,1.0,34.0,1.0...|[1.08942986629883...|       0.0|\n",
      "|       0|     2|  1|             35.0|    0|    0|   26.0|       0|[2.0,1.0,35.0,0.0...|[0.95029035787815...|       0.0|\n",
      "|       0|     2|  1|             66.0|    0|    0|   10.5|       0|[2.0,1.0,66.0,0.0...|[1.11835608601076...|       0.0|\n",
      "|       0|     3|  0|             16.0|    5|    2|   46.9|       0|[3.0,0.0,16.0,5.0...|[-0.3078678881267...|       1.0|\n",
      "|       0|     3|  0|             28.0|    0|    0| 7.8958|       0|(7,[0,2,5],[3.0,2...|[-0.9213698957199...|       1.0|\n",
      "|       0|     3|  0|             31.0|    1|    0|   18.0|       0|[3.0,0.0,31.0,1.0...|[-0.7645775247695...|       1.0|\n",
      "|       0|     3|  1|              4.0|    3|    2|   27.9|       0|[3.0,1.0,4.0,3.0,...|[1.31763199023743...|       0.0|\n",
      "|       0|     3|  1|             19.0|    0|    0| 8.1583|       0|[3.0,1.0,19.0,0.0...|[1.00226525663993...|       0.0|\n",
      "|       0|     3|  1|             20.0|    0|    0| 7.8542|       0|[3.0,1.0,20.0,0.0...|[1.00762145918107...|       0.0|\n",
      "|       0|     3|  1|             21.0|    0|    0|    7.8|       0|[3.0,1.0,21.0,0.0...|[1.01289439672620...|       0.0|\n",
      "|       0|     3|  1|             22.0|    0|    0|    9.0|       0|[3.0,1.0,22.0,0.0...|[1.01774944328289...|       0.0|\n",
      "|       0|     3|  1|             22.0|    1|    0|   7.25|       0|[3.0,1.0,22.0,1.0...|[1.16272691838135...|       0.0|\n",
      "|       0|     3|  1|             26.0|    1|    2| 20.575|       0|[3.0,1.0,26.0,1.0...|[1.14689118344291...|       0.0|\n",
      "|       0|     3|  1|             26.0|    2|    0| 8.6625|       0|[3.0,1.0,26.0,2.0...|[1.32767018367211...|       0.0|\n",
      "|       0|     3|  1|             28.5|    0|    0| 7.2292|       1|[3.0,1.0,28.5,0.0...|[0.98136299950072...|       0.0|\n",
      "+--------+------+---+-----------------+-----+-----+-------+--------+--------------------+--------------------+----------+\n",
      "only showing top 20 rows\n",
      "\n"
     ]
    }
   ],
   "source": [
    "lsvcResult.show()"
   ]
  },
  {
   "cell_type": "code",
   "execution_count": 19,
   "metadata": {},
   "outputs": [],
   "source": [
    "lsvc_y_pred = lsvcResult.select('prediction').toPandas().values\n",
    "lsvc_f1 = f1_score(y_true, lsvc_y_pred)"
   ]
  },
  {
   "cell_type": "markdown",
   "metadata": {},
   "source": [
    "## 3.3 Multilayer Perceptron (MLP)"
   ]
  },
  {
   "cell_type": "code",
   "execution_count": 20,
   "metadata": {},
   "outputs": [],
   "source": [
    "from pyspark.ml.classification import MultilayerPerceptronClassifier"
   ]
  },
  {
   "cell_type": "code",
   "execution_count": 21,
   "metadata": {},
   "outputs": [],
   "source": [
    "trainer = MultilayerPerceptronClassifier(\n",
    "    labelCol=\"Survived\",\n",
    "    featuresCol=\"features\",\n",
    "    maxIter=1500, \n",
    "    layers=[7, 32, 64, 16, 2], \n",
    "    blockSize=64, \n",
    "    seed=1234\n",
    "    )\n",
    "\n",
    "# train the model\n",
    "mlpModel = trainer.fit(train)\n",
    "\n",
    "# compute accuracy on the test set\n",
    "mlpResult = mlpModel.transform(valid)"
   ]
  },
  {
   "cell_type": "code",
   "execution_count": 22,
   "metadata": {},
   "outputs": [
    {
     "name": "stdout",
     "output_type": "stream",
     "text": [
      "+--------+------+---+-----------------+-----+-----+-------+--------+--------------------+--------------------+--------------------+----------+\n",
      "|Survived|Pclass|Sex|              Age|SibSp|Parch|   Fare|Embarked|            features|       rawPrediction|         probability|prediction|\n",
      "+--------+------+---+-----------------+-----+-----+-------+--------+--------------------+--------------------+--------------------+----------+\n",
      "|       0|     1|  1|29.69911764705882|    0|    0|27.7208|       1|[1.0,1.0,29.69911...|[-2.2066734482881...|[0.08339654463480...|       1.0|\n",
      "|       0|     1|  1|             40.0|    0|    0|27.7208|       1|[1.0,1.0,40.0,0.0...|[-0.1361553795740...|[0.84127051959492...|       0.0|\n",
      "|       0|     1|  1|             42.0|    1|    0|   52.0|       0|[1.0,1.0,42.0,1.0...|[-1.4286869040623...|[0.29469196443589...|       1.0|\n",
      "|       0|     2|  0|             27.0|    1|    0|   21.0|       0|[2.0,0.0,27.0,1.0...|[0.29793186825445...|[0.92546211645898...|       0.0|\n",
      "|       0|     2|  1|             32.0|    0|    0|   10.5|       0|[2.0,1.0,32.0,0.0...|[-0.0474282046283...|[0.86549443615287...|       0.0|\n",
      "|       0|     2|  1|             34.0|    1|    0|   26.0|       0|[2.0,1.0,34.0,1.0...|[0.78046506024582...|[0.96952732324122...|       0.0|\n",
      "|       0|     2|  1|             35.0|    0|    0|   26.0|       0|[2.0,1.0,35.0,0.0...|[0.48894317395393...|[0.94724869201246...|       0.0|\n",
      "|       0|     2|  1|             66.0|    0|    0|   10.5|       0|[2.0,1.0,66.0,0.0...|[9.44577007921114...|[0.99999999951222...|       0.0|\n",
      "|       0|     3|  0|             16.0|    5|    2|   46.9|       0|[3.0,0.0,16.0,5.0...|[1.05254426292332...|[0.98224125182006...|       0.0|\n",
      "|       0|     3|  0|             28.0|    0|    0| 7.8958|       0|(7,[0,2,5],[3.0,2...|[-1.0312227788331...|[0.48110010704878...|       1.0|\n",
      "|       0|     3|  0|             31.0|    1|    0|   18.0|       0|[3.0,0.0,31.0,1.0...|[-0.7933965325049...|[0.59690808195117...|       0.0|\n",
      "|       0|     3|  1|              4.0|    3|    2|   27.9|       0|[3.0,1.0,4.0,3.0,...|[0.67762040404750...|[0.96360178569308...|       0.0|\n",
      "|       0|     3|  1|             19.0|    0|    0| 8.1583|       0|[3.0,1.0,19.0,0.0...|[0.05448668667138...|[0.88720076803471...|       0.0|\n",
      "|       0|     3|  1|             20.0|    0|    0| 7.8542|       0|[3.0,1.0,20.0,0.0...|[0.06220733514051...|[0.88871136962192...|       0.0|\n",
      "|       0|     3|  1|             21.0|    0|    0|    7.8|       0|[3.0,1.0,21.0,0.0...|[0.06853003320434...|[0.88993527929883...|       0.0|\n",
      "|       0|     3|  1|             22.0|    0|    0|    9.0|       0|[3.0,1.0,22.0,0.0...|[0.05156890585751...|[0.88662544543514...|       0.0|\n",
      "|       0|     3|  1|             22.0|    1|    0|   7.25|       0|[3.0,1.0,22.0,1.0...|[0.07367366203176...|[0.89092242017829...|       0.0|\n",
      "|       0|     3|  1|             26.0|    1|    2| 20.575|       0|[3.0,1.0,26.0,1.0...|[2.45374971953814...|[0.99882995699062...|       0.0|\n",
      "|       0|     3|  1|             26.0|    2|    0| 8.6625|       0|[3.0,1.0,26.0,2.0...|[0.05153811831941...|[0.88661966375430...|       0.0|\n",
      "|       0|     3|  1|             28.5|    0|    0| 7.2292|       1|[3.0,1.0,28.5,0.0...|[-2.6327443712078...|[0.04435757583481...|       1.0|\n",
      "+--------+------+---+-----------------+-----+-----+-------+--------+--------------------+--------------------+--------------------+----------+\n",
      "only showing top 20 rows\n",
      "\n"
     ]
    }
   ],
   "source": [
    "mlpResult.show()"
   ]
  },
  {
   "cell_type": "code",
   "execution_count": 23,
   "metadata": {},
   "outputs": [],
   "source": [
    "mlp_y_pred = mlpResult.select('prediction').toPandas().values\n",
    "mlp_f1 = f1_score(y_true, mlp_y_pred)"
   ]
  },
  {
   "cell_type": "markdown",
   "metadata": {},
   "source": [
    "# 4. Ensemble of 3 models (Naive-bayes, LinearSVM, MLP)"
   ]
  },
  {
   "cell_type": "code",
   "execution_count": 24,
   "metadata": {},
   "outputs": [],
   "source": [
    "import numpy as np\n",
    "import matplotlib.pyplot as plt\n",
    "from sklearn.metrics import confusion_matrix, classification_report, ConfusionMatrixDisplay, accuracy_score"
   ]
  },
  {
   "cell_type": "code",
   "execution_count": 25,
   "metadata": {},
   "outputs": [
    {
     "name": "stdout",
     "output_type": "stream",
     "text": [
      "accuracy:  0.8202247191011236\n",
      "              precision    recall  f1-score   support\n",
      "\n",
      "           0       0.83      0.89      0.86       276\n",
      "           1       0.80      0.70      0.75       169\n",
      "\n",
      "    accuracy                           0.82       445\n",
      "   macro avg       0.81      0.80      0.80       445\n",
      "weighted avg       0.82      0.82      0.82       445\n",
      "\n"
     ]
    },
    {
     "data": {
      "image/png": "[encoded data removed]",
      "text/plain": [
       "<Figure size 640x480 with 2 Axes>"
      ]
     },
     "metadata": {},
     "output_type": "display_data"
    }
   ],
   "source": [
    "f1_total = nb_f1 + lsvc_f1 + mlp_f1\n",
    "y_pred = np.round((nb_y_pred * nb_f1 + lsvc_y_pred * lsvc_f1 + mlp_y_pred * mlp_f1)/f1_total)\n",
    "\n",
    "# Create accuracy score\n",
    "print(\"accuracy: \", accuracy_score(y_true, y_pred))\n",
    "\n",
    "# Create classification report\n",
    "print(classification_report(y_true, y_pred))\n",
    "\n",
    "# Create confusion matrix\n",
    "cm = confusion_matrix(y_true, y_pred)\n",
    "\n",
    "# Plot confusion matrix\n",
    "disp = ConfusionMatrixDisplay(confusion_matrix=cm, display_labels=[0, 1])\n",
    "disp.plot(cmap=plt.cm.Blues)\n",
    "plt.title(\"Confusion Matrix\")\n",
    "plt.show()"
   ]
  },
  {
   "cell_type": "markdown",
   "metadata": {},
   "source": [
    "# 5. Produce the submission file"
   ]
  },
  {
   "cell_type": "code",
   "execution_count": 26,
   "metadata": {},
   "outputs": [],
   "source": [
    "test_df = pd.read_csv('../data/test.csv')\n",
    "\n",
    "test_df.drop(['Name', 'Ticket', 'Cabin'], axis=1, inplace=True)\n",
    "test_df['Sex'] = test_df['Sex'].apply(lambda x: 1 if x == 'male' else 0)\n",
    "test_df['Age'] = test_df['Age'].fillna(test_df['Age'].mean())\n",
    "test_df['Fare'] = test_df['Fare'].fillna(test_df['Fare'].mean())\n",
    "test_df['Embarked'] = test_df['Embarked'].apply(lambda x: 0 if x == 'S' else 1)"
   ]
  },
  {
   "cell_type": "code",
   "execution_count": 27,
   "metadata": {},
   "outputs": [
    {
     "name": "stdout",
     "output_type": "stream",
     "text": [
      "<class 'pandas.core.frame.DataFrame'>\n",
      "RangeIndex: 418 entries, 0 to 417\n",
      "Data columns (total 8 columns):\n",
      " #   Column       Non-Null Count  Dtype  \n",
      "---  ------       --------------  -----  \n",
      " 0   PassengerId  418 non-null    int64  \n",
      " 1   Pclass       418 non-null    int64  \n",
      " 2   Sex          418 non-null    int64  \n",
      " 3   Age          418 non-null    float64\n",
      " 4   SibSp        418 non-null    int64  \n",
      " 5   Parch        418 non-null    int64  \n",
      " 6   Fare         418 non-null    float64\n",
      " 7   Embarked     418 non-null    int64  \n",
      "dtypes: float64(2), int64(6)\n",
      "memory usage: 26.3 KB\n",
      "None\n"
     ]
    }
   ],
   "source": [
    "# show non null values summary\n",
    "print(test_df.info())"
   ]
  },
  {
   "cell_type": "code",
   "execution_count": 28,
   "metadata": {},
   "outputs": [],
   "source": [
    "test = assembler.transform(spark.createDataFrame(test_df))"
   ]
  },
  {
   "cell_type": "code",
   "execution_count": 29,
   "metadata": {},
   "outputs": [],
   "source": [
    "nb_pred = nbModel.transform(test).select('prediction').toPandas().values\n",
    "lsvc_pred = lsvcModel.transform(test).select('prediction').toPandas().values\n",
    "mlp_pred = mlpModel.transform(test).select('prediction').toPandas().values\n",
    "\n",
    "y_pred = np.round((nb_pred * nb_f1 + lsvc_pred * lsvc_f1 + mlp_pred * mlp_f1)/f1_total)"
   ]
  },
  {
   "cell_type": "code",
   "execution_count": null,
   "metadata": {},
   "outputs": [],
   "source": [
    "df = pd.DataFrame({'PassengerId': test.toPandas()['PassengerId'], 'Survived': y_pred.flatten().astype(int)})\n",
    "df.to_csv('result/submission.csv', index=False)"
   ]
  }
 ],
 "metadata": {
  "kernelspec": {
   "display_name": "spark",
   "language": "python",
   "name": "python3"
  },
  "language_info": {
   "codemirror_mode": {
    "name": "ipython",
    "version": 3
   },
   "file_extension": ".py",
   "mimetype": "text/x-python",
   "name": "python",
   "nbconvert_exporter": "python",
   "pygments_lexer": "ipython3",
   "version": "3.11.10"
  }
 },
 "nbformat": 4,
 "nbformat_minor": 2
}

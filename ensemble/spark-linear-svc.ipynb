{
 "cells": [
  {
   "cell_type": "markdown",
   "metadata": {},
   "source": [
    "### 0. Extra Config as my pc has multiple JVMs "
   ]
  },
  {
   "cell_type": "code",
   "execution_count": 1,
   "metadata": {},
   "outputs": [
    {
     "name": "stdout",
     "output_type": "stream",
     "text": [
      "Matching Java Virtual Machines (8):\n",
      "    23 (arm64) \"Eclipse Adoptium\" - \"OpenJDK 23\" /Library/Java/JavaVirtualMachines/temurin-23.jdk/Contents/Home\n",
      "    19.0.2 (arm64) \"Amazon.com Inc.\" - \"Amazon Corretto 19\" /Users/him/Library/Java/JavaVirtualMachines/corretto-19.0.2/Contents/Home\n",
      "    17.0.8 (arm64) \"Oracle Corporation\" - \"Java SE 17.0.8\" /Library/Java/JavaVirtualMachines/jdk-17.jdk/Contents/Home\n",
      "    11.0.23 (arm64) \"Amazon.com Inc.\" - \"Amazon Corretto 11\" /Users/him/Library/Java/JavaVirtualMachines/corretto-11.0.23/Contents/Home\n",
      "    11.0.22 (arm64) \"Eclipse Adoptium\" - \"OpenJDK 11.0.22\" /Library/Java/JavaVirtualMachines/temurin-11.jdk/Contents/Home\n",
      "    1.8.431.10 (x86_64) \"Oracle Corporation\" - \"Java\" /Library/Internet Plug-Ins/JavaAppletPlugin.plugin/Contents/Home\n",
      "    1.8.0_412 (arm64) \"Amazon\" - \"Amazon Corretto 8\" /Users/him/Library/Java/JavaVirtualMachines/corretto-1.8.0_412/Contents/Home\n",
      "    1.8.0_412 (x86_64) \"Amazon\" - \"Amazon Corretto 8\" /Users/him/Library/Java/JavaVirtualMachines/corretto-1.8.0_412-1/Contents/Home\n",
      "/Library/Java/JavaVirtualMachines/temurin-23.jdk/Contents/Home\n"
     ]
    }
   ],
   "source": [
    "!/usr/libexec/java_home -V"
   ]
  },
  {
   "cell_type": "code",
   "execution_count": 2,
   "metadata": {},
   "outputs": [],
   "source": [
    "import os"
   ]
  },
  {
   "cell_type": "code",
   "execution_count": 3,
   "metadata": {},
   "outputs": [
    {
     "name": "stdout",
     "output_type": "stream",
     "text": [
      "Existing Java Home:  None\n",
      "Updated Java Home:  /Library/Java/JavaVirtualMachines/jdk-17.jdk/Contents/Home\n"
     ]
    }
   ],
   "source": [
    "java_path = \"/Library/Java/JavaVirtualMachines/jdk-17.jdk/Contents/Home\"\n",
    "java_home = os.environ.get('JAVA_HOME', None)\n",
    "\n",
    "print(\"Existing Java Home: \",java_home)\n",
    "\n",
    "if (not java_home) or (java_path not in java_home):\n",
    "    os.environ['JAVA_HOME'] = java_path\n",
    "\n",
    "print(\"Updated Java Home: \",os.environ.get('JAVA_HOME', None))"
   ]
  },
  {
   "cell_type": "code",
   "execution_count": 4,
   "metadata": {},
   "outputs": [
    {
     "name": "stderr",
     "output_type": "stream",
     "text": [
      "java version \"17.0.8\" 2023-07-18 LTS\n",
      "Java(TM) SE Runtime Environment (build 17.0.8+9-LTS-211)\n",
      "Java HotSpot(TM) 64-Bit Server VM (build 17.0.8+9-LTS-211, mixed mode, sharing)\n"
     ]
    },
    {
     "data": {
      "text/plain": [
       "0"
      ]
     },
     "execution_count": 4,
     "metadata": {},
     "output_type": "execute_result"
    }
   ],
   "source": [
    "# print java version\n",
    "\n",
    "os.system('java -version')"
   ]
  },
  {
   "cell_type": "markdown",
   "metadata": {},
   "source": [
    "### 1. Import library"
   ]
  },
  {
   "cell_type": "code",
   "execution_count": 5,
   "metadata": {},
   "outputs": [],
   "source": [
    "# $example on$\n",
    "import pandas as pd\n",
    "import matplotlib.pyplot as plt\n",
    "from sklearn.metrics import confusion_matrix, classification_report, ConfusionMatrixDisplay\n",
    "from pyspark.ml.classification import LinearSVC\n",
    "from pyspark.ml.evaluation import MulticlassClassificationEvaluator\n",
    "from pyspark.ml.feature import VectorAssembler\n",
    "# $example off$\n",
    "from pyspark.sql import SparkSession"
   ]
  },
  {
   "cell_type": "markdown",
   "metadata": {},
   "source": [
    "### 2. Load data"
   ]
  },
  {
   "cell_type": "code",
   "execution_count": 6,
   "metadata": {},
   "outputs": [],
   "source": [
    "train_df = pd.read_csv('data/train.csv')\n",
    "test_df = pd.read_csv('data/test.csv')"
   ]
  },
  {
   "cell_type": "markdown",
   "metadata": {},
   "source": [
    "### 3. Prepocessing"
   ]
  },
  {
   "cell_type": "code",
   "execution_count": 7,
   "metadata": {},
   "outputs": [],
   "source": [
    "train_df.drop(['PassengerId', 'Name', 'Ticket', 'Cabin'], axis=1, inplace=True)\n",
    "train_df['Sex'] = train_df['Sex'].apply(lambda x: 1 if x == 'male' else 0)\n",
    "train_df['Age'] = train_df['Age'].fillna(train_df['Age'].mean())\n",
    "train_df['Embarked'] = train_df['Embarked'].apply(lambda x: 0 if x == 'S' else 1)\n"
   ]
  },
  {
   "cell_type": "code",
   "execution_count": null,
   "metadata": {},
   "outputs": [
    {
     "name": "stderr",
     "output_type": "stream",
     "text": [
      "24/11/28 16:02:43 WARN Utils: Your hostname, Yuen-Man-Hims-MacBook-Pro-2.local resolves to a loopback address: 127.0.0.1; using 10.89.166.58 instead (on interface en0)\n",
      "24/11/28 16:02:43 WARN Utils: Set SPARK_LOCAL_IP if you need to bind to another address\n",
      "Setting default log level to \"WARN\".\n",
      "To adjust logging level use sc.setLogLevel(newLevel). For SparkR, use setLogLevel(newLevel).\n",
      "24/11/28 16:02:43 WARN NativeCodeLoader: Unable to load native-hadoop library for your platform... using builtin-java classes where applicable\n"
     ]
    }
   ],
   "source": [
    "spark = SparkSession\\\n",
    "        .builder\\\n",
    "        .appName(\"linear-svc\")\\\n",
    "        .getOrCreate()\n"
   ]
  },
  {
   "cell_type": "code",
   "execution_count": 9,
   "metadata": {},
   "outputs": [],
   "source": [
    "data = spark.createDataFrame(train_df)\n",
    "train, valid = data.randomSplit([0.6, 0.4], seed=12345)\n",
    "\n",
    "assembler = VectorAssembler(\n",
    "    inputCols = train_df.columns[1:].to_list(),\n",
    "    outputCol = \"features\")\n",
    "train = assembler.transform(train)\n",
    "valid = assembler.transform(valid)"
   ]
  },
  {
   "cell_type": "markdown",
   "metadata": {},
   "source": [
    "## 4. Model"
   ]
  },
  {
   "cell_type": "code",
   "execution_count": 10,
   "metadata": {},
   "outputs": [
    {
     "name": "stderr",
     "output_type": "stream",
     "text": [
      "24/11/28 16:02:50 WARN InstanceBuilder: Failed to load implementation from:dev.ludovic.netlib.blas.JNIBLAS\n",
      "24/11/28 16:02:50 WARN InstanceBuilder: Failed to load implementation from:dev.ludovic.netlib.blas.VectorBLAS\n"
     ]
    },
    {
     "name": "stdout",
     "output_type": "stream",
     "text": [
      "Coefficients: [-0.1049191093622976,-1.9885377554676447,-0.003881682607849011,-0.12804653019784323,0.027171404178357842,-0.00010755980851310895,0.052190453474727505]\n",
      "Intercept: 1.3491904251828788\n",
      "Test set accuracy = 0.7542857142857143\n",
      "              precision    recall  f1-score   support\n",
      "\n",
      "           0       0.79      0.82      0.81       216\n",
      "           1       0.69      0.64      0.67       134\n",
      "\n",
      "    accuracy                           0.75       350\n",
      "   macro avg       0.74      0.73      0.74       350\n",
      "weighted avg       0.75      0.75      0.75       350\n",
      "\n"
     ]
    },
    {
     "data": {
      "image/png": "[encoded data removed]",
      "text/plain": [
       "<Figure size 640x480 with 2 Axes>"
      ]
     },
     "metadata": {},
     "output_type": "display_data"
    }
   ],
   "source": [
    "lsvc = LinearSVC(maxIter=10, regParam=0.1, labelCol=\"Survived\", featuresCol=\"features\")\n",
    "\n",
    "# Fit the model\n",
    "lsvcModel = lsvc.fit(train)\n",
    "\n",
    "# Print the coefficients and intercept for linear SVC\n",
    "print(\"Coefficients: \" + str(lsvcModel.coefficients))\n",
    "print(\"Intercept: \" + str(lsvcModel.intercept))\n",
    "\n",
    "result = lsvcModel.transform(valid)\n",
    "predictionAndLabels = result.select(\"prediction\", \"Survived\")\n",
    "evaluator = MulticlassClassificationEvaluator(metricName=\"accuracy\", labelCol=\"Survived\", predictionCol=\"prediction\")\n",
    "print(\"Test set accuracy = \" + str(evaluator.evaluate(predictionAndLabels)))\n",
    "\n",
    "# Get predictions\n",
    "y_true = result.select(\"Survived\").toPandas()\n",
    "y_pred = result.select(\"prediction\").toPandas()\n",
    "\n",
    "# Create classification report\n",
    "print(classification_report(y_true, y_pred))\n",
    "\n",
    "# Create confusion matrix\n",
    "cm = confusion_matrix(y_true, y_pred)\n",
    "\n",
    "# Plot confusion matrix\n",
    "disp = ConfusionMatrixDisplay(confusion_matrix=cm, display_labels=[0, 1])\n",
    "disp.plot(cmap=plt.cm.Blues)\n",
    "plt.title(\"Confusion Matrix\")\n",
    "plt.show()"
   ]
  }
 ],
 "metadata": {
  "kernelspec": {
   "display_name": "spark",
   "language": "python",
   "name": "python3"
  },
  "language_info": {
   "codemirror_mode": {
    "name": "ipython",
    "version": 3
   },
   "file_extension": ".py",
   "mimetype": "text/x-python",
   "name": "python",
   "nbconvert_exporter": "python",
   "pygments_lexer": "ipython3",
   "version": "3.11.10"
  }
 },
 "nbformat": 4,
 "nbformat_minor": 2
}

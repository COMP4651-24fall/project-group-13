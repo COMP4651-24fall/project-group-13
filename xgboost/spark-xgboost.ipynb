{
 "cells": [
  {
   "cell_type": "markdown",
   "metadata": {},
   "source": [
    "## Titanic Analysis"
   ]
  },
  {
   "cell_type": "markdown",
   "metadata": {},
   "source": [
    "### Import"
   ]
  },
  {
   "cell_type": "code",
   "execution_count": 33,
   "metadata": {},
   "outputs": [],
   "source": [
    "from pyspark.sql import SparkSession\n",
    "from pyspark.sql.functions import col, when, lit, count, mean\n",
    "from pyspark.ml.feature import StringIndexer, OneHotEncoder\n",
    "from pyspark.ml import Pipeline\n",
    "import xgboost as xgb\n",
    "from sklearn.metrics import accuracy_score, confusion_matrix, classification_report, ConfusionMatrixDisplay\n",
    "import pandas as pd\n",
    "import matplotlib.pyplot as plt\n",
    "from sklearn.model_selection import train_test_split"
   ]
  },
  {
   "cell_type": "markdown",
   "metadata": {},
   "source": [
    "### Initialize a Spark session"
   ]
  },
  {
   "cell_type": "code",
   "execution_count": 34,
   "metadata": {},
   "outputs": [],
   "source": [
    "spark = SparkSession.builder \\\n",
    "    .appName(\"Titanic\") \\\n",
    "    .getOrCreate()"
   ]
  },
  {
   "cell_type": "markdown",
   "metadata": {},
   "source": [
    "### Load the Titanic training and testing datasets"
   ]
  },
  {
   "cell_type": "code",
   "execution_count": 35,
   "metadata": {},
   "outputs": [],
   "source": [
    "train_data = spark.read.csv(\"data/train.csv\", header=True, inferSchema=True)\n",
    "test_data = spark.read.csv(\"data/test.csv\", header=True, inferSchema=True)"
   ]
  },
  {
   "cell_type": "markdown",
   "metadata": {},
   "source": [
    "### Display the first 10 rows of the dataset for a better overview"
   ]
  },
  {
   "cell_type": "code",
   "execution_count": 36,
   "metadata": {},
   "outputs": [
    {
     "name": "stdout",
     "output_type": "stream",
     "text": [
      "+-----------+--------+------+--------------------+------+----+-----+-----+----------------+-------+-----+--------+\n",
      "|PassengerId|Survived|Pclass|                Name|   Sex| Age|SibSp|Parch|          Ticket|   Fare|Cabin|Embarked|\n",
      "+-----------+--------+------+--------------------+------+----+-----+-----+----------------+-------+-----+--------+\n",
      "|          1|       0|     3|Braund, Mr. Owen ...|  male|22.0|    1|    0|       A/5 21171|   7.25| NULL|       S|\n",
      "|          2|       1|     1|Cumings, Mrs. Joh...|female|38.0|    1|    0|        PC 17599|71.2833|  C85|       C|\n",
      "|          3|       1|     3|Heikkinen, Miss. ...|female|26.0|    0|    0|STON/O2. 3101282|  7.925| NULL|       S|\n",
      "|          4|       1|     1|Futrelle, Mrs. Ja...|female|35.0|    1|    0|          113803|   53.1| C123|       S|\n",
      "|          5|       0|     3|Allen, Mr. Willia...|  male|35.0|    0|    0|          373450|   8.05| NULL|       S|\n",
      "|          6|       0|     3|    Moran, Mr. James|  male|NULL|    0|    0|          330877| 8.4583| NULL|       Q|\n",
      "|          7|       0|     1|McCarthy, Mr. Tim...|  male|54.0|    0|    0|           17463|51.8625|  E46|       S|\n",
      "|          8|       0|     3|Palsson, Master. ...|  male| 2.0|    3|    1|          349909| 21.075| NULL|       S|\n",
      "|          9|       1|     3|Johnson, Mrs. Osc...|female|27.0|    0|    2|          347742|11.1333| NULL|       S|\n",
      "|         10|       1|     2|Nasser, Mrs. Nich...|female|14.0|    1|    0|          237736|30.0708| NULL|       C|\n",
      "+-----------+--------+------+--------------------+------+----+-----+-----+----------------+-------+-----+--------+\n",
      "only showing top 10 rows\n",
      "\n",
      "+-----------+------+--------------------+------+----+-----+-----+---------+-------+-----+--------+\n",
      "|PassengerId|Pclass|                Name|   Sex| Age|SibSp|Parch|   Ticket|   Fare|Cabin|Embarked|\n",
      "+-----------+------+--------------------+------+----+-----+-----+---------+-------+-----+--------+\n",
      "|        892|     3|    Kelly, Mr. James|  male|34.5|    0|    0|   330911| 7.8292| NULL|       Q|\n",
      "|        893|     3|Wilkes, Mrs. Jame...|female|47.0|    1|    0|   363272|    7.0| NULL|       S|\n",
      "|        894|     2|Myles, Mr. Thomas...|  male|62.0|    0|    0|   240276| 9.6875| NULL|       Q|\n",
      "|        895|     3|    Wirz, Mr. Albert|  male|27.0|    0|    0|   315154| 8.6625| NULL|       S|\n",
      "|        896|     3|Hirvonen, Mrs. Al...|female|22.0|    1|    1|  3101298|12.2875| NULL|       S|\n",
      "|        897|     3|Svensson, Mr. Joh...|  male|14.0|    0|    0|     7538|  9.225| NULL|       S|\n",
      "|        898|     3|Connolly, Miss. Kate|female|30.0|    0|    0|   330972| 7.6292| NULL|       Q|\n",
      "|        899|     2|Caldwell, Mr. Alb...|  male|26.0|    1|    1|   248738|   29.0| NULL|       S|\n",
      "|        900|     3|Abrahim, Mrs. Jos...|female|18.0|    0|    0|     2657| 7.2292| NULL|       C|\n",
      "|        901|     3|Davies, Mr. John ...|  male|21.0|    2|    0|A/4 48871|  24.15| NULL|       S|\n",
      "+-----------+------+--------------------+------+----+-----+-----+---------+-------+-----+--------+\n",
      "only showing top 10 rows\n",
      "\n"
     ]
    }
   ],
   "source": [
    "train_data.show(10)\n",
    "test_data.show(10)"
   ]
  },
  {
   "cell_type": "markdown",
   "metadata": {},
   "source": [
    "### Calculate survival rates"
   ]
  },
  {
   "cell_type": "code",
   "execution_count": 37,
   "metadata": {},
   "outputs": [
    {
     "name": "stdout",
     "output_type": "stream",
     "text": [
      "% of women who survived: 74.20%\n",
      "% of men who survived: 18.89%\n"
     ]
    }
   ],
   "source": [
    "rate_women = train_data.filter(col(\"Sex\") == 'female').agg(mean(\"Survived\")).first()[0] * 100\n",
    "print(f\"% of women who survived: {rate_women:.2f}%\")\n",
    "rate_men = train_data.filter(col(\"Sex\") == 'male').agg(mean(\"Survived\")).first()[0] * 100\n",
    "print(f\"% of men who survived: {rate_men:.2f}%\")"
   ]
  },
  {
   "cell_type": "markdown",
   "metadata": {},
   "source": [
    "### 1. Handling Missing Values"
   ]
  },
  {
   "cell_type": "code",
   "execution_count": 38,
   "metadata": {},
   "outputs": [],
   "source": [
    "# For Age: Impute with median\n",
    "median_age = train_data.approxQuantile(\"Age\", [0.5], 0)[0]\n",
    "train_data = train_data.fillna({\"Age\": median_age})\n",
    "test_data = test_data.fillna({\"Age\": median_age})\n",
    "\n",
    "# For Embarked: Impute with the most frequent value (mode)\n",
    "most_frequent_embarked = train_data.groupBy(\"Embarked\").agg(count(\"Embarked\").alias(\"count\")).orderBy(col(\"count\").desc()).first()[0]\n",
    "train_data = train_data.fillna({\"Embarked\": most_frequent_embarked})\n",
    "\n",
    "# For Fare: Impute with median for test data if it's missing\n",
    "median_fare = test_data.approxQuantile(\"Fare\", [0.5], 0)[0]\n",
    "test_data = test_data.fillna({\"Fare\": median_fare})"
   ]
  },
  {
   "cell_type": "markdown",
   "metadata": {},
   "source": [
    "### 2. Feature Engineering"
   ]
  },
  {
   "cell_type": "code",
   "execution_count": 39,
   "metadata": {},
   "outputs": [],
   "source": [
    "train_data = train_data.withColumn(\"FamilySize\", col(\"SibSp\") + col(\"Parch\") + lit(1))\n",
    "test_data = test_data.withColumn(\"FamilySize\", col(\"SibSp\") + col(\"Parch\") + lit(1))\n",
    "\n",
    "train_data = train_data.withColumn(\"IsAlone\", when(col(\"FamilySize\") == 1, 1).otherwise(0))\n",
    "test_data = test_data.withColumn(\"IsAlone\", when(col(\"FamilySize\") == 1, 1).otherwise(0))\n",
    "\n",
    "# Extract Title from Name\n",
    "train_data = train_data.withColumn(\"Title\", when(col(\"Name\").contains(\"Mrs.\"), \"Mrs\")\n",
    "                                     .when(col(\"Name\").contains(\"Mr.\"), \"Mr\")\n",
    "                                     .when(col(\"Name\").contains(\"Miss.\"), \"Miss\")\n",
    "                                     .otherwise(\"Other\"))\n",
    "test_data = test_data.withColumn(\"Title\", when(col(\"Name\").contains(\"Mrs.\"), \"Mrs\")\n",
    "                                     .when(col(\"Name\").contains(\"Mr.\"), \"Mr\")\n",
    "                                     .when(col(\"Name\").contains(\"Miss.\"), \"Miss\")\n",
    "                                     .otherwise(\"Other\"))"
   ]
  },
  {
   "cell_type": "markdown",
   "metadata": {},
   "source": [
    "### 3. Encoding Categorical Variables"
   ]
  },
  {
   "cell_type": "code",
   "execution_count": 40,
   "metadata": {},
   "outputs": [],
   "source": [
    "indexer_sex = StringIndexer(inputCol=\"Sex\", outputCol=\"Sex_Index\")\n",
    "indexer_embarked = StringIndexer(inputCol=\"Embarked\", outputCol=\"Embarked_Index\")\n",
    "indexer_title = StringIndexer(inputCol=\"Title\", outputCol=\"Title_Index\")\n",
    "\n",
    "encoder_embarked = OneHotEncoder(inputCols=[\"Embarked_Index\"], outputCols=[\"Embarked_OHE\"])\n",
    "encoder_title = OneHotEncoder(inputCols=[\"Title_Index\"], outputCols=[\"Title_OHE\"])\n",
    "\n",
    "# Create a pipeline for transformations\n",
    "pipeline = Pipeline(stages=[indexer_sex, indexer_embarked, indexer_title, encoder_embarked, encoder_title])\n",
    "train_data = pipeline.fit(train_data).transform(train_data)\n",
    "test_data = pipeline.fit(test_data).transform(test_data)"
   ]
  },
  {
   "cell_type": "markdown",
   "metadata": {},
   "source": [
    "### 4. Dropping Unnecessary Columns"
   ]
  },
  {
   "cell_type": "code",
   "execution_count": 41,
   "metadata": {},
   "outputs": [],
   "source": [
    "train_data = train_data.drop(\"Name\", \"Ticket\", \"Cabin\", \"SibSp\", \"Parch\", \"FamilySize\", \"Title\", \"Embarked\", \"Sex\")\n",
    "test_data = test_data.drop(\"Name\", \"Ticket\", \"Cabin\", \"SibSp\", \"Parch\", \"FamilySize\", \"Title\", \"Embarked\", \"Sex\")\n"
   ]
  },
  {
   "cell_type": "markdown",
   "metadata": {},
   "source": [
    "### 5. Preparing Features and Target"
   ]
  },
  {
   "cell_type": "code",
   "execution_count": 42,
   "metadata": {},
   "outputs": [
    {
     "name": "stdout",
     "output_type": "stream",
     "text": [
      "Validation accuracy: 78.21%\n",
      "Confusion matrix was successfully saved!\n",
      "Classification report was successfully saved!\n"
     ]
    },
    {
     "data": {
      "image/png": "[encoded data removed]",
      "text/plain": [
       "<Figure size 640x480 with 2 Axes>"
      ]
     },
     "metadata": {},
     "output_type": "display_data"
    },
    {
     "name": "stdout",
     "output_type": "stream",
     "text": [
      "Your submission was successfully saved!\n"
     ]
    }
   ],
   "source": [
    "# Prepare Features and Target\n",
    "y = train_data.select(\"Survived\").toPandas()\n",
    "X = train_data.toPandas().drop(\"Survived\", axis=1)\n",
    "\n",
    "# Ensure all columns are numeric\n",
    "X = X.apply(pd.to_numeric, errors='coerce')\n",
    "\n",
    "# Split the dataset into training and validation sets\n",
    "X_train, X_val, y_train, y_val = train_test_split(X, y, test_size=0.2, random_state=1)\n",
    "\n",
    "# Initialize the XGBoost model\n",
    "model = xgb.XGBClassifier(n_estimators=100, random_state=1)\n",
    "\n",
    "# Train the model on the training data\n",
    "model.fit(X_train, y_train)\n",
    "\n",
    "# Make predictions on the validation data\n",
    "val_predictions = model.predict(X_val)\n",
    "\n",
    "# Calculate the accuracy of the model on the validation set\n",
    "val_accuracy = accuracy_score(y_val, val_predictions)\n",
    "print(f\"Validation accuracy: {val_accuracy * 100:.2f}%\")\n",
    "\n",
    "# Calculate and save the confusion matrix\n",
    "cm = confusion_matrix(y_val, val_predictions)\n",
    "cm_df = pd.DataFrame(cm, index=[\"Actual 0\", \"Actual 1\"], columns=[\"Predicted 0\", \"Predicted 1\"])\n",
    "cm_df.to_csv('confusion_matrix.csv', index=True)\n",
    "print(\"Confusion matrix was successfully saved!\")\n",
    "\n",
    "# Generate and save the classification report\n",
    "report = classification_report(y_val, val_predictions, output_dict=True)\n",
    "report_df = pd.DataFrame(report).transpose()\n",
    "report_df.to_csv('classification_report.csv', index=True)\n",
    "print(\"Classification report was successfully saved!\")\n",
    "\n",
    "# Display the confusion matrix using ConfusionMatrixDisplay\n",
    "disp = ConfusionMatrixDisplay(confusion_matrix=cm, display_labels=[\"Not Survived\", \"Survived\"])\n",
    "disp.plot(cmap='Blues')\n",
    "plt.title('Confusion Matrix')\n",
    "plt.show()\n",
    "\n",
    "# Make predictions on the test set\n",
    "X_test = test_data.toPandas()\n",
    "X_test = X_test.apply(pd.to_numeric, errors='coerce')\n",
    "test_predictions = model.predict(X_test)\n",
    "\n",
    "# Create the output dataframe for submission\n",
    "output = pd.DataFrame({'PassengerId': test_data.toPandas()['PassengerId'], 'Survived': test_predictions})\n",
    "\n",
    "# Save predictions to CSV file\n",
    "output.to_csv('submission.csv', index=False)\n",
    "print(\"Your submission was successfully saved!\")\n",
    "\n",
    "# Stop the Spark session\n",
    "spark.stop()"
   ]
  }
 ],
 "metadata": {
  "kernelspec": {
   "display_name": "Python 3",
   "language": "python",
   "name": "python3"
  },
  "language_info": {
   "codemirror_mode": {
    "name": "ipython",
    "version": 3
   },
   "file_extension": ".py",
   "mimetype": "text/x-python",
   "name": "python",
   "nbconvert_exporter": "python",
   "pygments_lexer": "ipython3",
   "version": "3.12.1"
  },
  "orig_nbformat": 2
 },
 "nbformat": 4,
 "nbformat_minor": 2
}
